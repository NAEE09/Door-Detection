{
  "nbformat": 4,
  "nbformat_minor": 0,
  "metadata": {
    "colab": {
      "name": "Inference.ipynb",
      "provenance": []
    },
    "kernelspec": {
      "name": "python3",
      "display_name": "Python 3"
    },
    "language_info": {
      "name": "python"
    }
  },
  "cells": [
    {
      "cell_type": "code",
      "execution_count": 1,
      "metadata": {
        "colab": {
          "base_uri": "https://localhost:8080/"
        },
        "id": "EVhrTMWokcB0",
        "outputId": "52413909-ec75-4e92-d162-75b11a809856"
      },
      "outputs": [
        {
          "output_type": "stream",
          "name": "stderr",
          "text": [
            "YOLOv5 🚀 v6.1-160-g950a85d torch 1.10.0+cu111 CPU\n"
          ]
        },
        {
          "output_type": "stream",
          "name": "stdout",
          "text": [
            "Setup complete ✅ (2 CPUs, 12.7 GB RAM, 39.6/107.7 GB disk)\n"
          ]
        }
      ],
      "source": [
        "!git clone https://github.com/ultralytics/yolov5  # clone\n",
        "%cd yolov5\n",
        "%pip install -qr requirements.txt  # install\n",
        "\n",
        "import torch\n",
        "from yolov5 import utils\n",
        "display = utils.notebook_init()  # checks"
      ]
    },
    {
      "cell_type": "code",
      "source": [
        "!git clone https://github.com/NAEE09/Door-Detection.git"
      ],
      "metadata": {
        "colab": {
          "base_uri": "https://localhost:8080/"
        },
        "id": "129OzG0ckrTa",
        "outputId": "c93d1b71-cf15-4698-9c6d-171eca77959c"
      },
      "execution_count": 2,
      "outputs": [
        {
          "output_type": "stream",
          "name": "stdout",
          "text": [
            "Cloning into 'Door-Detection'...\n",
            "remote: Enumerating objects: 3746, done.\u001b[K\n",
            "remote: Counting objects: 100% (3746/3746), done.\u001b[K\n",
            "remote: Compressing objects: 100% (3739/3739), done.\u001b[K\n",
            "remote: Total 3746 (delta 5), reused 3698 (delta 3), pack-reused 0\u001b[K\n",
            "Receiving objects: 100% (3746/3746), 61.95 MiB | 22.62 MiB/s, done.\n",
            "Resolving deltas: 100% (5/5), done.\n"
          ]
        }
      ]
    },
    {
      "cell_type": "markdown",
      "source": [
        "Resultados se guardan en yolov5/runs/detect/exp3"
      ],
      "metadata": {
        "id": "FJ5Jm9fntiMd"
      }
    },
    {
      "cell_type": "code",
      "source": [
        "!python detect.py --weights Door-Detection/model_result/weights/best.pt --img 614 --conf 0.25 --source Door-Detection/door"
      ],
      "metadata": {
        "colab": {
          "base_uri": "https://localhost:8080/"
        },
        "id": "IW5Sr1C3k2TR",
        "outputId": "55397fa3-b052-4666-cf3b-366850ceb3f5"
      },
      "execution_count": 5,
      "outputs": [
        {
          "output_type": "stream",
          "name": "stdout",
          "text": [
            "\u001b[34m\u001b[1mdetect: \u001b[0mweights=['Door-Detection/modelresult/weights/best.pt'], source=Door-Detection/door, data=data/coco128.yaml, imgsz=[614, 614], conf_thres=0.25, iou_thres=0.45, max_det=1000, device=, view_img=False, save_txt=False, save_conf=False, save_crop=False, nosave=False, classes=None, agnostic_nms=False, augment=False, visualize=False, update=False, project=runs/detect, name=exp, exist_ok=False, line_thickness=3, hide_labels=False, hide_conf=False, half=False, dnn=False\n",
            "YOLOv5 🚀 v6.1-160-g950a85d torch 1.10.0+cu111 CPU\n",
            "\n",
            "Fusing layers... \n",
            "Model summary: 213 layers, 7020913 parameters, 0 gradients, 15.8 GFLOPs\n",
            "WARNING: --img-size [614, 614] must be multiple of max stride 32, updating to [640, 640]\n",
            "image 1/11 /content/yolov5/Door-Detection/door/15dc24b02024c4fbbb1675d3e64a8e27.jpg: 608x640 2 doors, 5 hingeds, 2 knobs, Done. (0.332s)\n",
            "image 2/11 /content/yolov5/Door-Detection/door/5a707336be5865ca275ecca4849f8085.jpg: 640x544 1 door, 3 hingeds, 1 knob, Done. (0.308s)\n",
            "image 3/11 /content/yolov5/Door-Detection/door/6f2e7cfe8b4e52cf571deec4e3a920b6.jpg: 640x512 2 knobs, Done. (0.297s)\n",
            "image 4/11 /content/yolov5/Door-Detection/door/9f6d5a7024944d8d22cd011e50699d7d.jpg: 640x448 1 door, 2 hingeds, 1 knob, 1 lever, Done. (0.241s)\n",
            "image 5/11 /content/yolov5/Door-Detection/door/door.jpeg: 640x480 1 door, 1 lever, Done. (0.268s)\n",
            "image 6/11 /content/yolov5/Door-Detection/door/door1.jpg: 576x640 1 door, 1 lever, Done. (0.304s)\n",
            "image 7/11 /content/yolov5/Door-Detection/door/door2.jpg: 640x544 1 door, 3 hingeds, 1 lever, Done. (0.285s)\n",
            "image 8/11 /content/yolov5/Door-Detection/door/door3.jpg: 576x640 2 doors, 1 lever, Done. (0.308s)\n",
            "image 9/11 /content/yolov5/Door-Detection/door/door4.jpg: 576x640 1 door, Done. (0.299s)\n",
            "image 10/11 /content/yolov5/Door-Detection/door/door5.jpg: 640x384 1 door, 4 hingeds, 1 lever, Done. (0.212s)\n",
            "image 11/11 /content/yolov5/Door-Detection/door/door6.jpeg: 640x480 1 door, 1 lever, Done. (0.255s)\n",
            "Speed: 1.9ms pre-process, 282.5ms inference, 1.6ms NMS per image at shape (1, 3, 640, 640)\n",
            "Results saved to \u001b[1mruns/detect/exp3\u001b[0m\n"
          ]
        }
      ]
    },
    {
      "cell_type": "code",
      "source": [
        ""
      ],
      "metadata": {
        "id": "F4NZaHKro10m"
      },
      "execution_count": null,
      "outputs": []
    }
  ]
}